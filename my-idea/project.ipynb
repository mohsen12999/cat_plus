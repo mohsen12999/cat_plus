{
 "cells": [
  {
   "cell_type": "code",
   "execution_count": null,
   "metadata": {},
   "outputs": [
    {
     "name": "stdout",
     "output_type": "stream",
     "text": [
      "File Name: test_file.txt\n",
      "\n",
      "hi!\n",
      "this is my file.\n",
      "I try to test.\n",
      "end of file.File Size: 51 bytes\n",
      "\n",
      "\n",
      "\n",
      "\n",
      "     1  hi!\n",
      "     2  this is my file.\n",
      "     3  I try to test.\n",
      "     4  end of file."
     ]
    }
   ],
   "source": [
    "import os\n",
    "\n",
    "file_path = \"test_file.txt\"\n",
    "\n",
    "# Get file name\n",
    "file_name = os.path.basename(file_path)\n",
    "\n",
    "# Get file size in bytes\n",
    "file_size = os.path.getsize(file_path)\n",
    "\n",
    "print(f\"File Name: {file_name}\\n\")\n",
    "\n",
    "with open(file_path, 'r') as f:\n",
    "    content = f.readlines()\n",
    "    for i, line in enumerate(content, 1):\n",
    "        print(line, end='')\n",
    "\n",
    "print(f\"\\n\\nFile Size: {file_size} bytes\")\n",
    "\n",
    "print(\"\\n\\n\")\n",
    "\n",
    "with open(file_path, 'r') as f:\n",
    "    content = f.readlines()\n",
    "    for i, line in enumerate(content, 1):\n",
    "        print(f\"{i:6d}  {line}\", end='')"
   ]
  }
 ],
 "metadata": {
  "kernelspec": {
   "display_name": "Python 3",
   "language": "python",
   "name": "python3"
  },
  "language_info": {
   "codemirror_mode": {
    "name": "ipython",
    "version": 3
   },
   "file_extension": ".py",
   "mimetype": "text/x-python",
   "name": "python",
   "nbconvert_exporter": "python",
   "pygments_lexer": "ipython3",
   "version": "3.13.3"
  }
 },
 "nbformat": 4,
 "nbformat_minor": 2
}
