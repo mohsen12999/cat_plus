{
 "cells": [
  {
   "cell_type": "code",
   "execution_count": 20,
   "metadata": {},
   "outputs": [
    {
     "name": "stdout",
     "output_type": "stream",
     "text": [
      " ╔═════════════╗\n",
      "╔╣test_file.txt╠═════════════════════╗\n",
      "║╚═════════════╝                     ║\n",
      "║hi!                                 ║\n",
      "║this is my file. loooooooooooooooong║\n",
      "║I try to test.                      ║\n",
      "║end of file                         ║\n",
      "║                    ╔══════════════╗║\n",
      "╚════════════════════╣size: 71 bytes╠╝\n",
      "                     ╚══════════════╝\n",
      "\n",
      "\n",
      "File Size: 71 bytes\n"
     ]
    }
   ],
   "source": [
    "import os\n",
    "\n",
    "file_path:str = \"test_file.txt\"\n",
    "\n",
    "# Get file name\n",
    "file_name:str = os.path.basename(file_path)\n",
    "file_name_size:int = len(file_name)\n",
    "\n",
    "# Read file \n",
    "lines:list[str] = []\n",
    "with open(file_path, 'r') as f:\n",
    "    lines = f.readlines()\n",
    "\n",
    "# Find the longest line\n",
    "max_line_length = max(len(s) for s in lines)\n",
    "\n",
    "# Get file size in bytes\n",
    "file_size = os.path.getsize(file_path)\n",
    "size_text = f\"size: {file_size} bytes\"\n",
    "size_text_length = len(size_text)\n",
    "\n",
    "# Box size\n",
    "box_size = max_line_length\n",
    "if(file_name_size+3>box_size):\n",
    "    box_size = file_name_size+3\n",
    "if(size_text_length+3>box_size):\n",
    "    box_size = size_text_length+3\n",
    "\n",
    "# https://gist.github.com/dsample/79a97f38bf956f37a0f99ace9df367b9\n",
    "\n",
    "# Output Head\n",
    "print(f\" ╔{file_name_size*\"═\"}╗\")\n",
    "print(f\"╔╣{file_name}╠{(box_size-file_name_size-3)*\"═\"}╗\")\n",
    "print(f\"║╚{file_name_size*\"═\"}╝{(box_size-file_name_size-3)*\" \"}║\")\n",
    "\n",
    "# Output Body\n",
    "for i, line in enumerate(lines, 1):\n",
    "    print(f\"║{line[:-1]}{(box_size -len(line))*\" \"}║\\n\", end='')\n",
    "\n",
    "# Output Footer\n",
    "\n",
    "print(f\"║{(box_size-size_text_length-3)*\" \"}╔{size_text_length*\"═\"}╗║\")\n",
    "print(f\"╚{(box_size-size_text_length-3)*\"═\"}╣{size_text}╠╝\")\n",
    "print(f\" {(box_size-size_text_length-3)*\" \"}╚{size_text_length*\"═\"}╝\")\n",
    "\n",
    "print(f\"\\n\\nFile Size: {file_size} bytes\")\n",
    "\n",
    "# print(\"\\n\\n\")\n",
    "\n",
    "# with open(file_path, 'r') as f:\n",
    "#     content = f.readlines()\n",
    "#     for i, line in enumerate(content, 1):\n",
    "#         print(f\"{i:6d}  {line}\", end='')"
   ]
  }
 ],
 "metadata": {
  "kernelspec": {
   "display_name": "Python 3",
   "language": "python",
   "name": "python3"
  },
  "language_info": {
   "codemirror_mode": {
    "name": "ipython",
    "version": 3
   },
   "file_extension": ".py",
   "mimetype": "text/x-python",
   "name": "python",
   "nbconvert_exporter": "python",
   "pygments_lexer": "ipython3",
   "version": "3.13.3"
  }
 },
 "nbformat": 4,
 "nbformat_minor": 2
}
