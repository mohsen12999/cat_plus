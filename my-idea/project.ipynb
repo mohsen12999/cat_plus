{
 "cells": [
  {
   "cell_type": "code",
   "execution_count": null,
   "metadata": {
    "vscode": {
     "languageId": "plaintext"
    }
   },
   "outputs": [],
   "source": [
    "text_file = \"test_file.txt\"\n",
    "\n",
    "with open(text_file, 'r') as f:\n",
    "    content = f.readlines()\n",
    "    for i, line in enumerate(content, 1):\n",
    "        print(line, end='')\n",
    "\n",
    "\n",
    "with open(text_file, 'r') as f:\n",
    "    content = f.readlines()\n",
    "    for i, line in enumerate(content, 1):\n",
    "        print(f\"{i:6d}  {line}\", end='')"
   ]
  }
 ],
 "metadata": {
  "language_info": {
   "name": "python"
  }
 },
 "nbformat": 4,
 "nbformat_minor": 2
}
