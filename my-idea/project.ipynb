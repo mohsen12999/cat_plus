{
 "cells": [
  {
   "cell_type": "code",
   "execution_count": 13,
   "metadata": {},
   "outputs": [
    {
     "name": "stdout",
     "output_type": "stream",
     "text": [
      " ╔═════════════╗\n",
      "╔╣test_file.txt╠╗ \n",
      "║╚═════════════╝╚\n",
      "║hi!\n",
      "║║this is my file.\n",
      "║║I try to test.\n",
      "║║end of file.║\n",
      "\n",
      "File Size: 51 bytes\n"
     ]
    }
   ],
   "source": [
    "import os\n",
    "\n",
    "file_path = \"test_file.txt\"\n",
    "\n",
    "# Get file name\n",
    "file_name = os.path.basename(file_path)\n",
    "\n",
    "# Get file size in bytes\n",
    "file_size = os.path.getsize(file_path)\n",
    "\n",
    "# https://gist.github.com/dsample/79a97f38bf956f37a0f99ace9df367b9\n",
    "\n",
    "print(f\" ╔{len(file_name)*\"═\"}╗\")\n",
    "print(f\"╔╣{file_name}╠╗ \")\n",
    "print(f\"║╚{len(file_name)*\"═\"}╝╚\")\n",
    "\n",
    "with open(file_path, 'r') as f:\n",
    "    content = f.readlines()\n",
    "    for i, line in enumerate(content, 1):\n",
    "        print(f\"║{line}║\", end='')\n",
    "\n",
    "print(f\"\\n\\nFile Size: {file_size} bytes\")\n",
    "\n",
    "# print(\"\\n\\n\")\n",
    "\n",
    "# with open(file_path, 'r') as f:\n",
    "#     content = f.readlines()\n",
    "#     for i, line in enumerate(content, 1):\n",
    "#         print(f\"{i:6d}  {line}\", end='')"
   ]
  }
 ],
 "metadata": {
  "kernelspec": {
   "display_name": "Python 3",
   "language": "python",
   "name": "python3"
  },
  "language_info": {
   "codemirror_mode": {
    "name": "ipython",
    "version": 3
   },
   "file_extension": ".py",
   "mimetype": "text/x-python",
   "name": "python",
   "nbconvert_exporter": "python",
   "pygments_lexer": "ipython3",
   "version": "3.13.3"
  }
 },
 "nbformat": 4,
 "nbformat_minor": 2
}
